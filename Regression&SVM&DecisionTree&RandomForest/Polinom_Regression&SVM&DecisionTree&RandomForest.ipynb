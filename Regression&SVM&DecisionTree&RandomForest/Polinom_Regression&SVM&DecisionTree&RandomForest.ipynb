{
  "nbformat": 4,
  "nbformat_minor": 0,
  "metadata": {
    "colab": {
      "name": "Polinom Regression&SVM&DecisionTree&RandomForest.ipynb",
      "provenance": [],
      "collapsed_sections": [],
      "toc_visible": true
    },
    "kernelspec": {
      "name": "python3",
      "display_name": "Python 3"
    }
  },
  "cells": [
    {
      "cell_type": "markdown",
      "metadata": {
        "id": "6yRV5iecfck0"
      },
      "source": [
        "# Polinom Regresyon\n"
      ]
    },
    {
      "cell_type": "code",
      "metadata": {
        "id": "x_bGZKv-xQ7n"
      },
      "source": [
        "import numpy as np\n",
        "import pandas as pd\n",
        "import tensorflow as tf\n",
        "import matplotlib.pyplot as plt\n",
        "from google.colab import drive\n",
        "import seaborn as sbn"
      ],
      "execution_count": null,
      "outputs": []
    },
    {
      "cell_type": "code",
      "metadata": {
        "colab": {
          "base_uri": "https://localhost:8080/"
        },
        "id": "10INl2YMxRuA",
        "outputId": "173521ff-a7f4-4749-8316-d6572d995da1"
      },
      "source": [
        "drive.mount(\"/gdrive\")\n",
        "%cd /gdrive"
      ],
      "execution_count": null,
      "outputs": [
        {
          "output_type": "stream",
          "text": [
            "Drive already mounted at /gdrive; to attempt to forcibly remount, call drive.mount(\"/gdrive\", force_remount=True).\n",
            "/gdrive\n"
          ],
          "name": "stdout"
        }
      ]
    },
    {
      "cell_type": "code",
      "metadata": {
        "id": "36SqJNK8xUzD"
      },
      "source": [
        "veriler = pd.read_csv(\"MyDrive/Machine Learning/maaslar.csv\")"
      ],
      "execution_count": null,
      "outputs": []
    },
    {
      "cell_type": "code",
      "metadata": {
        "colab": {
          "base_uri": "https://localhost:8080/",
          "height": 335
        },
        "id": "yQCJCaBbxeB-",
        "outputId": "3580f6f4-9f86-4198-c023-ea4455ac7289"
      },
      "source": [
        "veriler"
      ],
      "execution_count": null,
      "outputs": [
        {
          "output_type": "execute_result",
          "data": {
            "text/html": [
              "<div>\n",
              "<style scoped>\n",
              "    .dataframe tbody tr th:only-of-type {\n",
              "        vertical-align: middle;\n",
              "    }\n",
              "\n",
              "    .dataframe tbody tr th {\n",
              "        vertical-align: top;\n",
              "    }\n",
              "\n",
              "    .dataframe thead th {\n",
              "        text-align: right;\n",
              "    }\n",
              "</style>\n",
              "<table border=\"1\" class=\"dataframe\">\n",
              "  <thead>\n",
              "    <tr style=\"text-align: right;\">\n",
              "      <th></th>\n",
              "      <th>unvan</th>\n",
              "      <th>Egitim Seviyesi</th>\n",
              "      <th>maas</th>\n",
              "    </tr>\n",
              "  </thead>\n",
              "  <tbody>\n",
              "    <tr>\n",
              "      <th>0</th>\n",
              "      <td>Cayci</td>\n",
              "      <td>1</td>\n",
              "      <td>2250</td>\n",
              "    </tr>\n",
              "    <tr>\n",
              "      <th>1</th>\n",
              "      <td>Sekreter</td>\n",
              "      <td>2</td>\n",
              "      <td>2500</td>\n",
              "    </tr>\n",
              "    <tr>\n",
              "      <th>2</th>\n",
              "      <td>Uzman Yardimcisi</td>\n",
              "      <td>3</td>\n",
              "      <td>3000</td>\n",
              "    </tr>\n",
              "    <tr>\n",
              "      <th>3</th>\n",
              "      <td>Uzman</td>\n",
              "      <td>4</td>\n",
              "      <td>4000</td>\n",
              "    </tr>\n",
              "    <tr>\n",
              "      <th>4</th>\n",
              "      <td>Proje Yoneticisi</td>\n",
              "      <td>5</td>\n",
              "      <td>5500</td>\n",
              "    </tr>\n",
              "    <tr>\n",
              "      <th>5</th>\n",
              "      <td>Sef</td>\n",
              "      <td>6</td>\n",
              "      <td>7500</td>\n",
              "    </tr>\n",
              "    <tr>\n",
              "      <th>6</th>\n",
              "      <td>Mudur</td>\n",
              "      <td>7</td>\n",
              "      <td>10000</td>\n",
              "    </tr>\n",
              "    <tr>\n",
              "      <th>7</th>\n",
              "      <td>Direktor</td>\n",
              "      <td>8</td>\n",
              "      <td>15000</td>\n",
              "    </tr>\n",
              "    <tr>\n",
              "      <th>8</th>\n",
              "      <td>C-level</td>\n",
              "      <td>9</td>\n",
              "      <td>25000</td>\n",
              "    </tr>\n",
              "    <tr>\n",
              "      <th>9</th>\n",
              "      <td>CEO</td>\n",
              "      <td>10</td>\n",
              "      <td>50000</td>\n",
              "    </tr>\n",
              "  </tbody>\n",
              "</table>\n",
              "</div>"
            ],
            "text/plain": [
              "              unvan  Egitim Seviyesi   maas\n",
              "0             Cayci                1   2250\n",
              "1          Sekreter                2   2500\n",
              "2  Uzman Yardimcisi                3   3000\n",
              "3             Uzman                4   4000\n",
              "4  Proje Yoneticisi                5   5500\n",
              "5               Sef                6   7500\n",
              "6             Mudur                7  10000\n",
              "7          Direktor                8  15000\n",
              "8           C-level                9  25000\n",
              "9               CEO               10  50000"
            ]
          },
          "metadata": {
            "tags": []
          },
          "execution_count": 7
        }
      ]
    },
    {
      "cell_type": "code",
      "metadata": {
        "colab": {
          "base_uri": "https://localhost:8080/"
        },
        "id": "UiCk4ZB_xfEP",
        "outputId": "a61999d5-e333-4b44-89a1-dc3bb2d83018"
      },
      "source": [
        "veriler.info()"
      ],
      "execution_count": null,
      "outputs": [
        {
          "output_type": "stream",
          "text": [
            "<class 'pandas.core.frame.DataFrame'>\n",
            "RangeIndex: 10 entries, 0 to 9\n",
            "Data columns (total 3 columns):\n",
            " #   Column           Non-Null Count  Dtype \n",
            "---  ------           --------------  ----- \n",
            " 0   unvan            10 non-null     object\n",
            " 1   Egitim Seviyesi  10 non-null     int64 \n",
            " 2   maas             10 non-null     int64 \n",
            "dtypes: int64(2), object(1)\n",
            "memory usage: 368.0+ bytes\n"
          ],
          "name": "stdout"
        }
      ]
    },
    {
      "cell_type": "code",
      "metadata": {
        "colab": {
          "base_uri": "https://localhost:8080/",
          "height": 281
        },
        "id": "6crgUFfaxtwx",
        "outputId": "ae61f59d-a5aa-4646-924f-daf4410de3a4"
      },
      "source": [
        "veriler.plot()"
      ],
      "execution_count": null,
      "outputs": [
        {
          "output_type": "execute_result",
          "data": {
            "text/plain": [
              "<matplotlib.axes._subplots.AxesSubplot at 0x7f6a42b92470>"
            ]
          },
          "metadata": {
            "tags": []
          },
          "execution_count": 9
        },
        {
          "output_type": "display_data",
          "data": {
            "image/png": "[encoded data removed]",
            "text/plain": [
              "<Figure size 432x288 with 1 Axes>"
            ]
          },
          "metadata": {
            "tags": [],
            "needs_background": "light"
          }
        }
      ]
    },
    {
      "cell_type": "markdown",
      "metadata": {
        "id": "7yET2_nKEYoi"
      },
      "source": [
        "data frame dilimleme"
      ]
    },
    {
      "cell_type": "code",
      "metadata": {
        "id": "kp17Bjk3x8O_"
      },
      "source": [
        "x = veriler.iloc[:,1:2]\n",
        "y = veriler.iloc[:,2:]\n",
        "X = x.values\n",
        "Y = y.values"
      ],
      "execution_count": null,
      "outputs": []
    },
    {
      "cell_type": "code",
      "metadata": {
        "colab": {
          "base_uri": "https://localhost:8080/"
        },
        "id": "MvlXVEFwz-47",
        "outputId": "5957f308-be14-428c-ce62-915137e647b9"
      },
      "source": [
        "print(x, \"\\n\", y)"
      ],
      "execution_count": null,
      "outputs": [
        {
          "output_type": "stream",
          "text": [
            "   Egitim Seviyesi\n",
            "0                1\n",
            "1                2\n",
            "2                3\n",
            "3                4\n",
            "4                5\n",
            "5                6\n",
            "6                7\n",
            "7                8\n",
            "8                9\n",
            "9               10 \n",
            "     maas\n",
            "0   2250\n",
            "1   2500\n",
            "2   3000\n",
            "3   4000\n",
            "4   5500\n",
            "5   7500\n",
            "6  10000\n",
            "7  15000\n",
            "8  25000\n",
            "9  50000\n"
          ],
          "name": "stdout"
        }
      ]
    },
    {
      "cell_type": "markdown",
      "metadata": {
        "id": "Q2baAxAc2HPZ"
      },
      "source": [
        "## Linear deneme"
      ]
    },
    {
      "cell_type": "markdown",
      "metadata": {
        "id": "CD5kLJonEfyo"
      },
      "source": [
        "linear model oluşturma"
      ]
    },
    {
      "cell_type": "code",
      "metadata": {
        "id": "tdKPML0f0AEi"
      },
      "source": [
        "from sklearn.linear_model import LinearRegression"
      ],
      "execution_count": null,
      "outputs": []
    },
    {
      "cell_type": "code",
      "metadata": {
        "id": "kFJDxBYa05iY"
      },
      "source": [
        "Linear = LinearRegression()"
      ],
      "execution_count": null,
      "outputs": []
    },
    {
      "cell_type": "code",
      "metadata": {
        "colab": {
          "base_uri": "https://localhost:8080/"
        },
        "id": "B70xuCiZ07jq",
        "outputId": "3f4047ef-34ce-47f7-c5f8-d6968c987f25"
      },
      "source": [
        "Linear.fit(X,Y)"
      ],
      "execution_count": null,
      "outputs": [
        {
          "output_type": "execute_result",
          "data": {
            "text/plain": [
              "LinearRegression(copy_X=True, fit_intercept=True, n_jobs=None, normalize=False)"
            ]
          },
          "metadata": {
            "tags": []
          },
          "execution_count": 14
        }
      ]
    },
    {
      "cell_type": "code",
      "metadata": {
        "colab": {
          "base_uri": "https://localhost:8080/",
          "height": 265
        },
        "id": "bTFaTueV1BQ3",
        "outputId": "67aab7fa-a666-4e30-9c6f-c2e1f48cd099"
      },
      "source": [
        "plt.scatter(X,Y, color = \"r\")\n",
        "plt.plot(x,Linear.predict(X), color=\"g\")\n",
        "plt.show()"
      ],
      "execution_count": null,
      "outputs": [
        {
          "output_type": "display_data",
          "data": {
            "image/png": "[encoded data removed]",
            "text/plain": [
              "<Figure size 432x288 with 1 Axes>"
            ]
          },
          "metadata": {
            "tags": [],
            "needs_background": "light"
          }
        }
      ]
    },
    {
      "cell_type": "markdown",
      "metadata": {
        "id": "MgpmfXE12KXf"
      },
      "source": [
        "## Polinomal Deneme"
      ]
    },
    {
      "cell_type": "markdown",
      "metadata": {
        "id": "kw-zdKv6EjcL"
      },
      "source": [
        "doğrusal olmayan \n",
        "Polinomial regresyon oluşturma"
      ]
    },
    {
      "cell_type": "code",
      "metadata": {
        "id": "LUAoUeyM1QGW"
      },
      "source": [
        "from sklearn.preprocessing import PolynomialFeatures"
      ],
      "execution_count": null,
      "outputs": []
    },
    {
      "cell_type": "code",
      "metadata": {
        "id": "QlO8rJnN2PHW"
      },
      "source": [
        "poly = PolynomialFeatures(degree=2)"
      ],
      "execution_count": null,
      "outputs": []
    },
    {
      "cell_type": "code",
      "metadata": {
        "id": "L2DVkNdq2RGO"
      },
      "source": [
        "x_poly = poly.fit_transform(X)"
      ],
      "execution_count": null,
      "outputs": []
    },
    {
      "cell_type": "code",
      "metadata": {
        "colab": {
          "base_uri": "https://localhost:8080/"
        },
        "id": "Ble2qBaj2h-v",
        "outputId": "1302f3e0-f175-484b-9b59-c2b3b37093d1"
      },
      "source": [
        "print(x_poly)"
      ],
      "execution_count": null,
      "outputs": [
        {
          "output_type": "stream",
          "text": [
            "[[  1.   1.   1.]\n",
            " [  1.   2.   4.]\n",
            " [  1.   3.   9.]\n",
            " [  1.   4.  16.]\n",
            " [  1.   5.  25.]\n",
            " [  1.   6.  36.]\n",
            " [  1.   7.  49.]\n",
            " [  1.   8.  64.]\n",
            " [  1.   9.  81.]\n",
            " [  1.  10. 100.]]\n"
          ],
          "name": "stdout"
        }
      ]
    },
    {
      "cell_type": "code",
      "metadata": {
        "id": "fsHygLFR2kFs"
      },
      "source": [
        "\n",
        "Linear2 = LinearRegression()"
      ],
      "execution_count": null,
      "outputs": []
    },
    {
      "cell_type": "code",
      "metadata": {
        "colab": {
          "base_uri": "https://localhost:8080/"
        },
        "id": "Pq4KkpAI3BD-",
        "outputId": "9abf8420-20b7-44d9-f9ae-a0432bb238cb"
      },
      "source": [
        "Linear2.fit(x_poly,y)"
      ],
      "execution_count": null,
      "outputs": [
        {
          "output_type": "execute_result",
          "data": {
            "text/plain": [
              "LinearRegression(copy_X=True, fit_intercept=True, n_jobs=None, normalize=False)"
            ]
          },
          "metadata": {
            "tags": []
          },
          "execution_count": 21
        }
      ]
    },
    {
      "cell_type": "markdown",
      "metadata": {
        "id": "HtHKMSwDEpn-"
      },
      "source": [
        "görselleştirme"
      ]
    },
    {
      "cell_type": "code",
      "metadata": {
        "colab": {
          "base_uri": "https://localhost:8080/",
          "height": 265
        },
        "id": "El7QeXNA3RW7",
        "outputId": "c3b88256-c671-4d6c-ce9a-a07d82ed4cd5"
      },
      "source": [
        "plt.scatter(X,Y, color = \"r\")\n",
        "plt.plot(x,Linear2.predict(x_poly))\n",
        "plt.show()"
      ],
      "execution_count": null,
      "outputs": [
        {
          "output_type": "display_data",
          "data": {
            "image/png": "[encoded data removed]",
            "text/plain": [
              "<Figure size 432x288 with 1 Axes>"
            ]
          },
          "metadata": {
            "tags": [],
            "needs_background": "light"
          }
        }
      ]
    },
    {
      "cell_type": "markdown",
      "metadata": {
        "id": "3hJnJgj34E40"
      },
      "source": [
        "### 4.dereceden\n"
      ]
    },
    {
      "cell_type": "markdown",
      "metadata": {
        "id": "mosiBSdsEscO"
      },
      "source": [
        "4. dereceden polinom regresyon \n"
      ]
    },
    {
      "cell_type": "code",
      "metadata": {
        "id": "F5NPPwQS3Tc7"
      },
      "source": [
        "poly4 = PolynomialFeatures(degree=4)"
      ],
      "execution_count": null,
      "outputs": []
    },
    {
      "cell_type": "code",
      "metadata": {
        "id": "P7RbXkUD4IFN"
      },
      "source": [
        "x_poly4 = poly4.fit_transform(X)"
      ],
      "execution_count": null,
      "outputs": []
    },
    {
      "cell_type": "code",
      "metadata": {
        "id": "u_U7aiOG4KQv"
      },
      "source": [
        "Linear4 = LinearRegression()"
      ],
      "execution_count": null,
      "outputs": []
    },
    {
      "cell_type": "code",
      "metadata": {
        "colab": {
          "base_uri": "https://localhost:8080/"
        },
        "id": "KzpVIJ8Y4Lng",
        "outputId": "5cb98032-1f17-4531-9468-3725918669d3"
      },
      "source": [
        "Linear4.fit(x_poly4,y)"
      ],
      "execution_count": null,
      "outputs": [
        {
          "output_type": "execute_result",
          "data": {
            "text/plain": [
              "LinearRegression(copy_X=True, fit_intercept=True, n_jobs=None, normalize=False)"
            ]
          },
          "metadata": {
            "tags": []
          },
          "execution_count": 26
        }
      ]
    },
    {
      "cell_type": "markdown",
      "metadata": {
        "id": "fo9uC4U7FQun"
      },
      "source": [
        "görselleştirme"
      ]
    },
    {
      "cell_type": "code",
      "metadata": {
        "colab": {
          "base_uri": "https://localhost:8080/",
          "height": 265
        },
        "id": "SWx57VSZ4VC3",
        "outputId": "6df152d8-7155-4e95-b080-759e13af6e7e"
      },
      "source": [
        "plt.scatter(X,Y, color = \"r\")\n",
        "plt.plot(x,Linear4.predict(x_poly4))\n",
        "plt.show()"
      ],
      "execution_count": null,
      "outputs": [
        {
          "output_type": "display_data",
          "data": {
            "image/png": "[encoded data removed]",
            "text/plain": [
              "<Figure size 432x288 with 1 Axes>"
            ]
          },
          "metadata": {
            "tags": [],
            "needs_background": "light"
          }
        }
      ]
    },
    {
      "cell_type": "code",
      "metadata": {
        "colab": {
          "base_uri": "https://localhost:8080/"
        },
        "id": "HTRS0B-NK4PQ",
        "outputId": "3fa00f22-27a1-4e5f-b57f-d7420e7bdd2d"
      },
      "source": [
        "print(Linear4.predict(x_poly4))"
      ],
      "execution_count": null,
      "outputs": [
        {
          "output_type": "stream",
          "text": [
            "[[ 2667.83216783]\n",
            " [ 1587.99533799]\n",
            " [ 2932.1095571 ]\n",
            " [ 4731.64335664]\n",
            " [ 6086.24708625]\n",
            " [ 7163.75291375]\n",
            " [ 9200.17482518]\n",
            " [14499.70862471]\n",
            " [26434.73193474]\n",
            " [49445.80419581]]\n"
          ],
          "name": "stdout"
        }
      ]
    },
    {
      "cell_type": "markdown",
      "metadata": {
        "id": "0j9c00_3N9zS"
      },
      "source": [
        "## Support Vector Regression"
      ]
    },
    {
      "cell_type": "code",
      "metadata": {
        "id": "uH6KFWFRLDf3"
      },
      "source": [
        "from sklearn.preprocessing import StandardScaler"
      ],
      "execution_count": null,
      "outputs": []
    },
    {
      "cell_type": "code",
      "metadata": {
        "id": "xoMefXp7MFlv"
      },
      "source": [
        "sc1 = StandardScaler()"
      ],
      "execution_count": null,
      "outputs": []
    },
    {
      "cell_type": "code",
      "metadata": {
        "id": "GeaYG0XyMG8q"
      },
      "source": [
        "X_olcekli = sc1.fit_transform(X)"
      ],
      "execution_count": null,
      "outputs": []
    },
    {
      "cell_type": "code",
      "metadata": {
        "id": "lBSD-p48MMhz"
      },
      "source": [
        "sc2 = StandardScaler()"
      ],
      "execution_count": null,
      "outputs": []
    },
    {
      "cell_type": "code",
      "metadata": {
        "id": "GuIpqSJGMO3Y"
      },
      "source": [
        "Y_olcekli = sc2.fit_transform(Y)"
      ],
      "execution_count": null,
      "outputs": []
    },
    {
      "cell_type": "code",
      "metadata": {
        "id": "WtbTNRuDMVMY"
      },
      "source": [
        "from sklearn.svm import SVR"
      ],
      "execution_count": null,
      "outputs": []
    },
    {
      "cell_type": "code",
      "metadata": {
        "colab": {
          "base_uri": "https://localhost:8080/"
        },
        "id": "OnnxgqCCMaIb",
        "outputId": "5f09a42e-cf17-4517-f384-1e2c2d75f038"
      },
      "source": [
        "svr_regression = SVR(kernel='rbf')\n",
        "svr_regression.fit(X_olcekli,Y_olcekli)"
      ],
      "execution_count": null,
      "outputs": [
        {
          "output_type": "stream",
          "text": [
            "/usr/local/lib/python3.6/dist-packages/sklearn/utils/validation.py:760: DataConversionWarning: A column-vector y was passed when a 1d array was expected. Please change the shape of y to (n_samples, ), for example using ravel().\n",
            "  y = column_or_1d(y, warn=True)\n"
          ],
          "name": "stderr"
        },
        {
          "output_type": "execute_result",
          "data": {
            "text/plain": [
              "SVR(C=1.0, cache_size=200, coef0=0.0, degree=3, epsilon=0.1, gamma='scale',\n",
              "    kernel='rbf', max_iter=-1, shrinking=True, tol=0.001, verbose=False)"
            ]
          },
          "metadata": {
            "tags": []
          },
          "execution_count": 35
        }
      ]
    },
    {
      "cell_type": "code",
      "metadata": {
        "colab": {
          "base_uri": "https://localhost:8080/",
          "height": 281
        },
        "id": "FCG0MaAcMq5-",
        "outputId": "8897d832-3ea8-4519-d2fd-6d71c8347bc3"
      },
      "source": [
        "plt.scatter(X_olcekli,Y_olcekli)\n",
        "plt.plot(X_olcekli,svr_regression.predict(X_olcekli), color=\"red\")"
      ],
      "execution_count": null,
      "outputs": [
        {
          "output_type": "execute_result",
          "data": {
            "text/plain": [
              "[<matplotlib.lines.Line2D at 0x7f6a3f1cfd30>]"
            ]
          },
          "metadata": {
            "tags": []
          },
          "execution_count": 36
        },
        {
          "output_type": "display_data",
          "data": {
            "image/png": "[encoded data removed]",
            "text/plain": [
              "<Figure size 432x288 with 1 Axes>"
            ]
          },
          "metadata": {
            "tags": [],
            "needs_background": "light"
          }
        }
      ]
    },
    {
      "cell_type": "code",
      "metadata": {
        "colab": {
          "base_uri": "https://localhost:8080/"
        },
        "id": "v2yKLSbnNHyq",
        "outputId": "5e30f3a3-e9af-4058-d254-5959c5a84dbb"
      },
      "source": [
        "print(svr_regression.predict([[11]]))\n",
        "print(svr_regression.predict([[6.6]]))"
      ],
      "execution_count": null,
      "outputs": [
        {
          "output_type": "stream",
          "text": [
            "[0.01150915]\n",
            "[0.01150915]\n"
          ],
          "name": "stdout"
        }
      ]
    },
    {
      "cell_type": "markdown",
      "metadata": {
        "id": "z-SkghHrOKe8"
      },
      "source": [
        "# Decision Tree"
      ]
    },
    {
      "cell_type": "code",
      "metadata": {
        "id": "bbOuO0HiNs3r"
      },
      "source": [
        "from sklearn.tree import DecisionTreeRegressor"
      ],
      "execution_count": null,
      "outputs": []
    },
    {
      "cell_type": "code",
      "metadata": {
        "id": "euXtjom4OReU"
      },
      "source": [
        "r_dt = DecisionTreeRegressor(random_state=0)"
      ],
      "execution_count": null,
      "outputs": []
    },
    {
      "cell_type": "code",
      "metadata": {
        "id": "E6yQYfEdOTmm",
        "colab": {
          "base_uri": "https://localhost:8080/"
        },
        "outputId": "c36fdee4-4cf0-4998-8d48-3cb098eaf8d9"
      },
      "source": [
        "r_dt.fit(X,Y)"
      ],
      "execution_count": null,
      "outputs": [
        {
          "output_type": "execute_result",
          "data": {
            "text/plain": [
              "DecisionTreeRegressor(ccp_alpha=0.0, criterion='mse', max_depth=None,\n",
              "                      max_features=None, max_leaf_nodes=None,\n",
              "                      min_impurity_decrease=0.0, min_impurity_split=None,\n",
              "                      min_samples_leaf=1, min_samples_split=2,\n",
              "                      min_weight_fraction_leaf=0.0, presort='deprecated',\n",
              "                      random_state=0, splitter='best')"
            ]
          },
          "metadata": {
            "tags": []
          },
          "execution_count": 46
        }
      ]
    },
    {
      "cell_type": "code",
      "metadata": {
        "colab": {
          "base_uri": "https://localhost:8080/",
          "height": 281
        },
        "id": "CHxRzDVZPEIj",
        "outputId": "8e031d1b-e044-415e-afaf-34a7346cc2f1"
      },
      "source": [
        "plt.scatter(X,Y, color=\"red\")\n",
        "plt.plot(X,r_dt.predict(X))"
      ],
      "execution_count": null,
      "outputs": [
        {
          "output_type": "execute_result",
          "data": {
            "text/plain": [
              "[<matplotlib.lines.Line2D at 0x7f6a360ebda0>]"
            ]
          },
          "metadata": {
            "tags": []
          },
          "execution_count": 48
        },
        {
          "output_type": "display_data",
          "data": {
            "image/png": "[encoded data removed]",
            "text/plain": [
              "<Figure size 432x288 with 1 Axes>"
            ]
          },
          "metadata": {
            "tags": [],
            "needs_background": "light"
          }
        }
      ]
    },
    {
      "cell_type": "code",
      "metadata": {
        "colab": {
          "base_uri": "https://localhost:8080/"
        },
        "id": "xLv9WIikP0_g",
        "outputId": "4d56aeab-7c4c-4198-d278-54f92b7f1daf"
      },
      "source": [
        "print(r_dt.predict([[11]]))\n",
        "print(r_dt.predict([[6.6]]))"
      ],
      "execution_count": null,
      "outputs": [
        {
          "output_type": "stream",
          "text": [
            "[50000.]\n",
            "[10000.]\n"
          ],
          "name": "stdout"
        }
      ]
    },
    {
      "cell_type": "code",
      "metadata": {
        "id": "txvDu0hHQSdG"
      },
      "source": [
        "Z = X + 0.5\n",
        "K = X -0.4"
      ],
      "execution_count": null,
      "outputs": []
    },
    {
      "cell_type": "code",
      "metadata": {
        "colab": {
          "base_uri": "https://localhost:8080/",
          "height": 281
        },
        "id": "A3-7NmjmQ98n",
        "outputId": "ea6e554a-18c5-4c08-8833-6c5182958c22"
      },
      "source": [
        "plt.plot(X,r_dt.predict(Z), color = \"red\")\n",
        "plt.scatter(X,r_dt.predict(K))"
      ],
      "execution_count": null,
      "outputs": [
        {
          "output_type": "execute_result",
          "data": {
            "text/plain": [
              "<matplotlib.collections.PathCollection at 0x7f6a3607a1d0>"
            ]
          },
          "metadata": {
            "tags": []
          },
          "execution_count": 57
        },
        {
          "output_type": "display_data",
          "data": {
            "image/png": "[encoded data removed]",
            "text/plain": [
              "<Figure size 432x288 with 1 Axes>"
            ]
          },
          "metadata": {
            "tags": [],
            "needs_background": "light"
          }
        }
      ]
    },
    {
      "cell_type": "markdown",
      "metadata": {
        "id": "_AM49AnyTqH7"
      },
      "source": [
        "# Random Forest"
      ]
    },
    {
      "cell_type": "code",
      "metadata": {
        "id": "ZMB7y1r6RJrB"
      },
      "source": [
        "from sklearn.ensemble import RandomForestRegressor"
      ],
      "execution_count": null,
      "outputs": []
    },
    {
      "cell_type": "code",
      "metadata": {
        "id": "9K_aj71VTwAz"
      },
      "source": [
        "rf_reg = RandomForestRegressor(n_estimators=10,random_state=0)"
      ],
      "execution_count": null,
      "outputs": []
    },
    {
      "cell_type": "code",
      "metadata": {
        "colab": {
          "base_uri": "https://localhost:8080/"
        },
        "id": "e5oBW-GvT6MU",
        "outputId": "72f534d9-e7f4-4e13-c710-0fee91777129"
      },
      "source": [
        "rf_reg.fit(X,Y.ravel())"
      ],
      "execution_count": null,
      "outputs": [
        {
          "output_type": "execute_result",
          "data": {
            "text/plain": [
              "RandomForestRegressor(bootstrap=True, ccp_alpha=0.0, criterion='mse',\n",
              "                      max_depth=None, max_features='auto', max_leaf_nodes=None,\n",
              "                      max_samples=None, min_impurity_decrease=0.0,\n",
              "                      min_impurity_split=None, min_samples_leaf=1,\n",
              "                      min_samples_split=2, min_weight_fraction_leaf=0.0,\n",
              "                      n_estimators=10, n_jobs=None, oob_score=False,\n",
              "                      random_state=0, verbose=0, warm_start=False)"
            ]
          },
          "metadata": {
            "tags": []
          },
          "execution_count": 61
        }
      ]
    },
    {
      "cell_type": "code",
      "metadata": {
        "colab": {
          "base_uri": "https://localhost:8080/"
        },
        "id": "HwSAY0mXURE0",
        "outputId": "4c630a28-537d-441a-f1c1-ff8aa77c39da"
      },
      "source": [
        "print(rf_reg.predict([[11]]))\n",
        "print(rf_reg.predict([[6.6]]))"
      ],
      "execution_count": null,
      "outputs": [
        {
          "output_type": "stream",
          "text": [
            "[42500.]\n",
            "[10500.]\n"
          ],
          "name": "stdout"
        }
      ]
    },
    {
      "cell_type": "code",
      "metadata": {
        "colab": {
          "base_uri": "https://localhost:8080/",
          "height": 281
        },
        "id": "WSyTGqNOUaP0",
        "outputId": "2df2a92e-f80a-464e-d112-662a563bb172"
      },
      "source": [
        "plt.scatter(X,Y, color=\"red\")\n",
        "plt.plot(X,rf_reg.predict(X))\n",
        "plt.plot(X,rf_reg.predict(Z), color=\"yellow\")\n",
        "plt.plot(X,rf_reg.predict(K), color=\"green\"dola )"
      ],
      "execution_count": null,
      "outputs": [
        {
          "output_type": "execute_result",
          "data": {
            "text/plain": [
              "[<matplotlib.lines.Line2D at 0x7f6a35c4c978>]"
            ]
          },
          "metadata": {
            "tags": []
          },
          "execution_count": 68
        },
        {
          "output_type": "display_data",
          "data": {
            "image/png": "[encoded data removed]",
            "text/plain": [
              "<Figure size 432x288 with 1 Axes>"
            ]
          },
          "metadata": {
            "tags": [],
            "needs_background": "light"
          }
        }
      ]
    }
  ]
}